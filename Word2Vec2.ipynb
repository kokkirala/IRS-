{
  "nbformat": 4,
  "nbformat_minor": 0,
  "metadata": {
    "colab": {
      "provenance": [],
      "include_colab_link": true
    },
    "kernelspec": {
      "name": "python3",
      "display_name": "Python 3"
    },
    "language_info": {
      "name": "python"
    }
  },
  "cells": [
    {
      "cell_type": "markdown",
      "metadata": {
        "id": "view-in-github",
        "colab_type": "text"
      },
      "source": [
        "<a href=\"https://colab.research.google.com/github/kokkirala/IRS-/blob/main/Word2Vec2.ipynb\" target=\"_parent\"><img src=\"https://colab.research.google.com/assets/colab-badge.svg\" alt=\"Open In Colab\"/></a>"
      ]
    },
    {
      "cell_type": "code",
      "execution_count": 36,
      "metadata": {
        "id": "uv1UJ9aY0E4m"
      },
      "outputs": [],
      "source": [
        "import string\n",
        "import nltk\n",
        "from nltk.corpus import brown\n",
        "from gensim.models import Word2Vec\n",
        "from sklearn.decomposition import PCA\n",
        "from matplotlib import pyplot"
      ]
    },
    {
      "cell_type": "code",
      "source": [
        "nltk.download(\"brown\")\n",
        "\n",
        "# Preprocessing data to lowercase all words and remove single punctuation words\n",
        "document = brown.sents()\n",
        "data = []\n",
        "for sent in document:\n",
        "  new_sent = []\n",
        "  for word in sent:\n",
        "    new_word = word.lower()\n",
        "    if new_word[0] not in string.punctuation:\n",
        "      new_sent.append(new_word)\n",
        "  if len(new_sent) > 0:\n",
        "    data.append(new_sent)"
      ],
      "metadata": {
        "colab": {
          "base_uri": "https://localhost:8080/"
        },
        "id": "kFsS1aaz0LFm",
        "outputId": "e1c48788-41e1-479f-e014-d19ccd4bf962"
      },
      "execution_count": 37,
      "outputs": [
        {
          "output_type": "stream",
          "name": "stderr",
          "text": [
            "[nltk_data] Downloading package brown to /root/nltk_data...\n",
            "[nltk_data]   Package brown is already up-to-date!\n"
          ]
        }
      ]
    },
    {
      "cell_type": "code",
      "source": [
        "model = Word2Vec(sentences=data,vector_size=100, window=5, min_count=1, workers=4)"
      ],
      "metadata": {
        "id": "OlrTjdQ-0Rc3"
      },
      "execution_count": 38,
      "outputs": []
    },
    {
      "cell_type": "code",
      "source": [
        "import string\n",
        "import nltk\n",
        "from nltk.corpus import brown\n",
        "from gensim.models import Word2Vec\n",
        "from sklearn.decomposition import PCA\n",
        "from matplotlib import pyplot\n",
        "\n",
        "nltk.download(\"brown\")\n",
        "\n",
        "# Preprocessing data to lowercase all words and remove single punctuation words\n",
        "document = brown.sents()\n",
        "data = []\n",
        "for sent in document:\n",
        "  new_sent = []\n",
        "  for word in sent:\n",
        "    new_word = word.lower()\n",
        "    if new_word[0] not in string.punctuation:\n",
        "      new_sent.append(new_word)\n",
        "  if len(new_sent) > 0:\n",
        "    data.append(new_sent)\n",
        "\n",
        "# Creating Word2Vec\n",
        "model = Word2Vec(sentences=data, vector_size=100, window=5, min_count=1, workers=4)"
      ],
      "metadata": {
        "id": "bmrdXQKD06Sg",
        "outputId": "5d7a3602-0552-48e8-ed84-37b0d1dbeb20",
        "colab": {
          "base_uri": "https://localhost:8080/"
        }
      },
      "execution_count": 39,
      "outputs": [
        {
          "output_type": "stream",
          "name": "stderr",
          "text": [
            "[nltk_data] Downloading package brown to /root/nltk_data...\n",
            "[nltk_data]   Package brown is already up-to-date!\n"
          ]
        }
      ]
    },
    {
      "cell_type": "code",
      "source": [
        "# Vector for word love\n",
        "print(\"Vector for love:\")\n",
        "print(model.wv[\"love\"])\n",
        "print()"
      ],
      "metadata": {
        "colab": {
          "base_uri": "https://localhost:8080/"
        },
        "id": "VWxMIMMH08wd",
        "outputId": "6f884b81-b727-4d32-d023-3470c68ab8b6"
      },
      "execution_count": 40,
      "outputs": [
        {
          "output_type": "stream",
          "name": "stdout",
          "text": [
            "Vector for love:\n",
            "[-0.21415642  0.36336505  0.2329789   0.654348   -0.31348217 -0.6067884\n",
            "  0.27654284  0.8020689  -0.4000746  -0.37332535  0.28142127 -0.68341744\n",
            " -0.25532562  0.41912392  0.20085245 -0.62562996  0.6460638  -0.4402092\n",
            "  0.25957388 -1.1194375   0.6020618   0.6391327   0.4160537   0.05948681\n",
            " -0.2739026  -0.3148753  -0.77545446 -0.31016317 -0.8498187  -0.3497595\n",
            "  0.9878979  -0.18174306  0.5205486  -0.8690365  -0.07118897  0.3247113\n",
            "  0.5504352  -0.21109498  0.02781072 -0.98154306 -0.39400312 -0.58975565\n",
            " -0.8310808   0.17110771  0.43572897  0.1613597  -0.39928517 -0.21011785\n",
            "  0.2726775  -0.3013951   0.39507508 -0.6869184  -0.06890433 -0.08271081\n",
            "  0.45260054  0.4353405   0.05359992 -0.3519375  -0.47575012  0.40828204\n",
            "  0.12018429  0.13003424  0.13305359  0.32161963 -0.6895365   0.11319543\n",
            " -0.3517661   0.38868883 -0.28559566  0.50989646 -0.06793728  0.2802337\n",
            "  0.40370047  0.01771608  0.6009565   0.26176107  0.31344584 -0.35629982\n",
            " -0.4785221  -0.28257513 -0.17696775 -0.09359318 -0.3835971   0.39647895\n",
            " -0.35280478 -0.1306485   0.8067861   0.06554721  0.07267068  0.2640964\n",
            "  1.166636   -0.18723302 -0.2833012   0.40604988  1.2845719   0.865791\n",
            " -0.19184595  0.06900047 -0.4241125  -0.30150342]\n",
            "\n"
          ]
        }
      ]
    },
    {
      "cell_type": "code",
      "source": [
        "# Finding most similar words\n",
        "print(\"3 words similar to car\")\n",
        "#similar_words = model.wv.most_similar(\"learning\")\n",
        "words = model.wv.most_similar(\"car\", topn=3)\n",
        "for word in words:\n",
        "  print(word)\n",
        "print()"
      ],
      "metadata": {
        "colab": {
          "base_uri": "https://localhost:8080/"
        },
        "id": "2F8RXLX31CKN",
        "outputId": "6cef809b-9fd0-4759-b41c-47ae31b803f1"
      },
      "execution_count": 41,
      "outputs": [
        {
          "output_type": "stream",
          "name": "stdout",
          "text": [
            "3 words similar to car\n",
            "('step', 0.9466516971588135)\n",
            "('hall', 0.944920003414154)\n",
            "('hotel', 0.936387300491333)\n",
            "\n"
          ]
        }
      ]
    },
    {
      "cell_type": "code",
      "source": [
        "#Visualizing data\n",
        "words = [\"france\", \"germany\", \"india\", \"truck\", \"boat\", \"road\", \"teacher\", \"student\"]\n",
        "\n",
        "X = model.wv[words]\n",
        "pca = PCA(n_components=2)\n",
        "result = pca.fit_transform(X)"
      ],
      "metadata": {
        "id": "IixpIkbj13iQ"
      },
      "execution_count": 42,
      "outputs": []
    },
    {
      "cell_type": "code",
      "source": [
        "pyplot.scatter(result[:, 0], result[:, 1])\n",
        "for i, word in enumerate(words):\n",
        "    pyplot.annotate(word, xy=(result[i, 0], result[i, 1]))\n",
        "pyplot.show()"
      ],
      "metadata": {
        "colab": {
          "base_uri": "https://localhost:8080/",
          "height": 433
        },
        "id": "1zfB38pD18Iz",
        "outputId": "4240d244-e214-46fe-ec7f-87270f4aa6d6"
      },
      "execution_count": 43,
      "outputs": [
        {
          "output_type": "display_data",
          "data": {
            "text/plain": [
              "<Figure size 640x480 with 1 Axes>"
            ],
            "image/png": "[encoded data removed]"
          },
          "metadata": {}
        }
      ]
    }
  ]
}