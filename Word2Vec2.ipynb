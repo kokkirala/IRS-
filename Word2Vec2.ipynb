{
  "nbformat": 4,
  "nbformat_minor": 0,
  "metadata": {
    "colab": {
      "provenance": [],
      "include_colab_link": true
    },
    "kernelspec": {
      "name": "python3",
      "display_name": "Python 3"
    },
    "language_info": {
      "name": "python"
    }
  },
  "cells": [
    {
      "cell_type": "markdown",
      "metadata": {
        "id": "view-in-github",
        "colab_type": "text"
      },
      "source": [
        "<a href=\"https://colab.research.google.com/github/kokkirala/IRS-/blob/main/Word2Vec2.ipynb\" target=\"_parent\"><img src=\"https://colab.research.google.com/assets/colab-badge.svg\" alt=\"Open In Colab\"/></a>"
      ]
    },
    {
      "cell_type": "code",
      "execution_count": 28,
      "metadata": {
        "id": "uv1UJ9aY0E4m"
      },
      "outputs": [],
      "source": [
        "import string\n",
        "import nltk\n",
        "from nltk.corpus import brown\n",
        "from gensim.models import Word2Vec\n",
        "from sklearn.decomposition import PCA\n",
        "from matplotlib import pyplot"
      ]
    },
    {
      "cell_type": "code",
      "source": [
        "nltk.download(\"brown\")\n",
        "\n",
        "# Preprocessing data to lowercase all words and remove single punctuation words\n",
        "document = brown.sents()\n",
        "data = []\n",
        "for sent in document:\n",
        "  new_sent = []\n",
        "  for word in sent:\n",
        "    new_word = word.lower()\n",
        "    if new_word[0] not in string.punctuation:\n",
        "      new_sent.append(new_word)\n",
        "  if len(new_sent) > 0:\n",
        "    data.append(new_sent)"
      ],
      "metadata": {
        "colab": {
          "base_uri": "https://localhost:8080/"
        },
        "id": "kFsS1aaz0LFm",
        "outputId": "72dc8bc1-b152-49ce-bb9c-2632e8a0cb91"
      },
      "execution_count": 29,
      "outputs": [
        {
          "output_type": "stream",
          "name": "stderr",
          "text": [
            "[nltk_data] Downloading package brown to /root/nltk_data...\n",
            "[nltk_data]   Package brown is already up-to-date!\n"
          ]
        }
      ]
    },
    {
      "cell_type": "code",
      "source": [
        "model = Word2Vec(sentences=data,vector_size=100, window=5, min_count=1, workers=4)"
      ],
      "metadata": {
        "id": "OlrTjdQ-0Rc3"
      },
      "execution_count": 30,
      "outputs": []
    },
    {
      "cell_type": "code",
      "source": [
        "# Vector for word love\n",
        "print(\"Vector for love:\")\n",
        "print(model.wv[\"love\"])\n",
        "print()"
      ],
      "metadata": {
        "colab": {
          "base_uri": "https://localhost:8080/"
        },
        "id": "VWxMIMMH08wd",
        "outputId": "9790a13b-1e72-4956-de2f-3eb709565946"
      },
      "execution_count": 32,
      "outputs": [
        {
          "output_type": "stream",
          "name": "stdout",
          "text": [
            "Vector for love:\n",
            "[-1.6403809e-01  3.9378199e-01  2.5284654e-01  4.7643745e-01\n",
            " -1.7720138e-01 -7.0118576e-01  2.5075424e-01  8.3502829e-01\n",
            " -3.8254666e-01 -7.1215087e-01  1.4326231e-01 -7.9168350e-01\n",
            " -2.9142016e-01  4.4845903e-01  3.2693699e-01 -5.5046093e-01\n",
            "  6.7124790e-01 -2.2715965e-01  3.7242788e-01 -1.2854687e+00\n",
            "  5.4247212e-01  7.1028900e-01  6.2240988e-01 -1.6587814e-04\n",
            " -3.2554090e-01 -6.2986255e-02 -4.6491766e-01 -1.3331044e-01\n",
            " -5.2922696e-01 -3.1281623e-01  1.4084574e+00 -4.6033630e-01\n",
            "  3.5300604e-01 -9.1249269e-01  2.1092364e-01  3.9847168e-01\n",
            "  4.9776471e-01 -4.9669224e-01  4.3078549e-02 -9.4883007e-01\n",
            " -2.8504360e-01 -3.8486174e-01 -9.8064959e-01 -4.1348230e-02\n",
            "  4.3892166e-01  3.3179617e-01 -4.8014638e-01 -3.0352598e-01\n",
            "  2.9676065e-01 -2.7009511e-01  4.6800265e-01 -7.3207754e-01\n",
            " -2.5860831e-01 -2.4376343e-01  4.2467052e-01  3.4237015e-01\n",
            " -1.2401461e-02 -4.7763705e-02 -3.3404562e-01  3.8179362e-01\n",
            " -1.2404109e-01  1.0228831e-01  7.9465538e-02  6.6034210e-01\n",
            " -5.9975314e-01  2.5323325e-01 -5.3401053e-01  2.9006875e-01\n",
            " -3.6656848e-01  5.1635092e-01 -3.8931388e-02  5.5414286e-02\n",
            "  6.5653920e-01  1.3307665e-01  2.1677254e-01  1.0339323e-01\n",
            "  1.7388029e-01 -4.9003682e-01 -3.8943133e-01 -3.4661055e-01\n",
            " -5.0820846e-02  2.7183160e-01 -7.9895169e-02  4.5097062e-01\n",
            " -1.1213255e-01 -1.2750432e-01  6.3995439e-01  8.4762692e-02\n",
            "  3.3807212e-01  1.7198649e-01  1.0956500e+00 -4.3483236e-01\n",
            " -3.3842465e-01  3.8398400e-01  7.5952834e-01  9.8973829e-01\n",
            " -4.8527732e-02 -4.3326828e-01 -3.7532261e-01 -4.4854546e-01]\n",
            "\n"
          ]
        }
      ]
    },
    {
      "cell_type": "code",
      "source": [
        "import string\n",
        "import nltk\n",
        "from nltk.corpus import brown\n",
        "from gensim.models import Word2Vec\n",
        "from sklearn.decomposition import PCA\n",
        "from matplotlib import pyplot\n",
        "\n",
        "nltk.download(\"brown\")\n",
        "\n",
        "# Preprocessing data to lowercase all words and remove single punctuation words\n",
        "document = brown.sents()\n",
        "data = []\n",
        "for sent in document:\n",
        "  new_sent = []\n",
        "  for word in sent:\n",
        "    new_word = word.lower()\n",
        "    if new_word[0] not in string.punctuation:\n",
        "      new_sent.append(new_word)\n",
        "  if len(new_sent) > 0:\n",
        "    data.append(new_sent)\n",
        "\n",
        "# Creating Word2Vec\n",
        "model = Word2Vec(sentences=data, vector_size=100, window=5, min_count=1, workers=4)\n"
      ],
      "metadata": {
        "id": "bmrdXQKD06Sg",
        "colab": {
          "base_uri": "https://localhost:8080/"
        },
        "outputId": "97258251-82ea-4d2a-c39b-9bdcaad93839"
      },
      "execution_count": 31,
      "outputs": [
        {
          "output_type": "stream",
          "name": "stderr",
          "text": [
            "[nltk_data] Downloading package brown to /root/nltk_data...\n",
            "[nltk_data]   Package brown is already up-to-date!\n"
          ]
        }
      ]
    },
    {
      "cell_type": "code",
      "source": [
        "# Finding most similar words\n",
        "print(\"3 words similar to car\")\n",
        "#similar_words = model.wv.most_similar(\"learning\")\n",
        "words = model.wv.most_similar(\"car\", topn=3)\n",
        "for word in words:\n",
        "  print(word)\n",
        "print()"
      ],
      "metadata": {
        "colab": {
          "base_uri": "https://localhost:8080/"
        },
        "id": "2F8RXLX31CKN",
        "outputId": "648f08c8-64fe-441a-fefb-c151b54a1bb4"
      },
      "execution_count": 33,
      "outputs": [
        {
          "output_type": "stream",
          "name": "stdout",
          "text": [
            "3 words similar to car\n",
            "('train', 0.9615650177001953)\n",
            "('hall', 0.9479703307151794)\n",
            "('step', 0.9472152590751648)\n",
            "\n"
          ]
        }
      ]
    },
    {
      "cell_type": "code",
      "source": [
        "#Visualizing data\n",
        "words = [\"france\", \"germany\", \"india\", \"truck\", \"boat\", \"road\", \"teacher\", \"student\"]\n",
        "\n",
        "X = model.wv[words]\n",
        "pca = PCA(n_components=2)\n",
        "result = pca.fit_transform(X)"
      ],
      "metadata": {
        "id": "IixpIkbj13iQ"
      },
      "execution_count": 34,
      "outputs": []
    },
    {
      "cell_type": "code",
      "source": [
        "pyplot.scatter(result[:, 0], result[:, 1])\n",
        "for i, word in enumerate(words):\n",
        "    pyplot.annotate(word, xy=(result[i, 0], result[i, 1]))\n",
        "pyplot.show()"
      ],
      "metadata": {
        "colab": {
          "base_uri": "https://localhost:8080/",
          "height": 430
        },
        "id": "1zfB38pD18Iz",
        "outputId": "e316ce8a-2bbd-4945-c7db-a00e0c7bd10e"
      },
      "execution_count": 35,
      "outputs": [
        {
          "output_type": "display_data",
          "data": {
            "text/plain": [
              "<Figure size 640x480 with 1 Axes>"
            ],
            "image/png": "[encoded data removed]"
          },
          "metadata": {}
        }
      ]
    }
  ]
}